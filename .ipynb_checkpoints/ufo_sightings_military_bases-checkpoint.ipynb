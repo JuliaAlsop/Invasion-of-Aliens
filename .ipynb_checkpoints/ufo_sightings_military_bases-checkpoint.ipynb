{
 "cells": [
  {
   "cell_type": "code",
   "execution_count": 1,
   "metadata": {},
   "outputs": [],
   "source": [
    "# Dependencies\n",
    "import pandas as pd\n",
    "import numpy as np\n",
    "import os\n",
    "import psycopg2\n",
    "\n",
    "# Python SQL toolkit and Object Relational Mapper\n",
    "import sqlalchemy\n",
    "from sqlalchemy import create_engine, inspect, func\n",
    "from sqlalchemy.ext.automap import automap_base\n",
    "from sqlalchemy.ext.declarative import declarative_base\n",
    "Base = declarative_base()\n",
    "from sqlalchemy.orm import Session\n",
    "from sqlalchemy import Column, Integer, String, Float"
   ]
  },
  {
   "cell_type": "code",
   "execution_count": 2,
   "metadata": {},
   "outputs": [],
   "source": [
    "# Import Matplot lib\n",
    "import matplotlib\n",
    "from matplotlib import style\n",
    "style.use('fivethirtyeight')\n",
    "%matplotlib inline\n",
    "# from matplotlib import style\n",
    "# style.use('seaborn')\n",
    "import matplotlib.pyplot as plt\n",
    "import datetime as dt"
   ]
  },
  {
   "cell_type": "code",
   "execution_count": 3,
   "metadata": {},
   "outputs": [],
   "source": [
    "from scipy import stats"
   ]
  },
  {
   "cell_type": "markdown",
   "metadata": {},
   "source": [
    "## Load US Military Bases CSVs"
   ]
  },
  {
   "cell_type": "code",
   "execution_count": 4,
   "metadata": {},
   "outputs": [],
   "source": [
    "## Load US Military Bases CSV (Alabama-Missouri)\n",
    "#military_bases_1_file = \"data/csv/military_bases/military_bases_1.csv\"\n",
    "#military_bases_df = pd.read_csv(military_bases_1_file, encoding=\"utf-8\")\n",
    "#military_bases_df.head()"
   ]
  },
  {
   "cell_type": "code",
   "execution_count": 5,
   "metadata": {},
   "outputs": [],
   "source": [
    "## Load US Military Bases CSV (Montana-Wyoming)\n",
    "#military_bases_2_file = \"data/csv/military_bases/military_bases_2.csv\"\n",
    "#military_bases_df = pd.read_csv(military_bases_2_file, encoding=\"utf-8\")\n",
    "#military_bases_df.head()"
   ]
  },
  {
   "cell_type": "markdown",
   "metadata": {},
   "source": [
    "## Load National UFO Reporting Center CSV (April 2020)"
   ]
  },
  {
   "cell_type": "code",
   "execution_count": 6,
   "metadata": {},
   "outputs": [],
   "source": [
    "## Load National Ufo Reporting Center Data for April 2020\n",
    "#nurc_april_file = \"data/csv/nat_ufo_rep_ctr_0420.csv\"\n",
    "#nurc_april_df = pd.read_csv(nurc_april_file, encoding=\"utf-8\")\n",
    "#nurc_april_df.head()"
   ]
  },
  {
   "cell_type": "markdown",
   "metadata": {},
   "source": [
    "## Load NUFORC CSVs (1906-2014)"
   ]
  },
  {
   "cell_type": "code",
   "execution_count": 7,
   "metadata": {},
   "outputs": [],
   "source": [
    "## Load National Ufo Reporting Center Data for 1906-1954\n",
    "#nuforc_file_1 = \"data/csv/nuforc_reports/nuforc_1906_54.csv\"\n",
    "#nuforc_1_df = pd.read_csv(nuforc_file_1, encoding=\"utf-8\")\n",
    "#nuforc_1_df.head()"
   ]
  },
  {
   "cell_type": "code",
   "execution_count": 8,
   "metadata": {},
   "outputs": [],
   "source": [
    "## Load National Ufo Reporting Center Data for 1955-1969\n",
    "#nuforc_file_2 = \"data/csv/nuforc_reports/nuforc_1955_69.csv\"\n",
    "#nuforc_2_df = pd.read_csv(nuforc_file_2, encoding=\"utf-8\")\n",
    "#nuforc_2_df.head()"
   ]
  },
  {
   "cell_type": "code",
   "execution_count": 9,
   "metadata": {},
   "outputs": [],
   "source": [
    "## Load National Ufo Reporting Center Data for 1970-1984\n",
    "#nuforc_file_3 = \"data/csv/nuforc_reports/nuforc_1970_84.csv\"\n",
    "#nuforc_3_df = pd.read_csv(nuforc_file_3, encoding=\"utf-8\")\n",
    "#nuforc_3_df.head()"
   ]
  },
  {
   "cell_type": "code",
   "execution_count": 10,
   "metadata": {},
   "outputs": [],
   "source": [
    "## Load National Ufo Reporting Center Data for 1985-1999\n",
    "#nuforc_file_4 = \"data/csv/nuforc_reports/nuforc_85_99.csv\"\n",
    "#nuforc_4_df = pd.read_csv(nuforc_file_4, encoding=\"utf-8\")\n",
    "#nuforc_4_df.head()"
   ]
  },
  {
   "cell_type": "code",
   "execution_count": 11,
   "metadata": {},
   "outputs": [],
   "source": [
    "## Load National Ufo Reporting Center Data for 2000-2007\n",
    "#nuforc_file_5 = \"data/csv/nuforc_reports/nuforc_2000_07.csv\"\n",
    "#nuforc_5_df = pd.read_csv(nuforc_file_5, encoding=\"utf-8\")\n",
    "#nuforc_5_df.head()"
   ]
  },
  {
   "cell_type": "code",
   "execution_count": 12,
   "metadata": {},
   "outputs": [],
   "source": [
    "## Load National Ufo Reporting Center Data for 2008-2014\n",
    "#nuforc_file_6 = \"data/csv/nuforc_reports/nuforc_08_14.csv\"\n",
    "#nuforc_6_df = pd.read_csv(nuforc_file_6, encoding=\"utf-8\")\n",
    "#nuforc_6_df.head()"
   ]
  },
  {
   "cell_type": "markdown",
   "metadata": {},
   "source": [
    "## Connect to SQL DB"
   ]
  },
  {
   "cell_type": "code",
   "execution_count": 13,
   "metadata": {},
   "outputs": [],
   "source": [
    "connection_string = \"postgres:Postgres@localhost:5433/ufo_sightings\"\n",
    "engine = create_engine(f'postgresql://{connection_string}')"
   ]
  },
  {
   "cell_type": "code",
   "execution_count": 14,
   "metadata": {},
   "outputs": [],
   "source": [
    "conn = engine.connect()"
   ]
  },
  {
   "cell_type": "code",
   "execution_count": 15,
   "metadata": {},
   "outputs": [],
   "source": [
    "# Create the inspector and connect it to the engine\n",
    "inspector = inspect(engine)"
   ]
  },
  {
   "cell_type": "code",
   "execution_count": 16,
   "metadata": {},
   "outputs": [
    {
     "data": {
      "text/plain": [
       "['nuforc_reports', 'military_bases', 'national_ufo_reporting_ctr']"
      ]
     },
     "execution_count": 16,
     "metadata": {},
     "output_type": "execute_result"
    }
   ],
   "source": [
    "engine.table_names()"
   ]
  },
  {
   "cell_type": "markdown",
   "metadata": {},
   "source": [
    "## Query Data for Each Table"
   ]
  },
  {
   "cell_type": "code",
   "execution_count": 17,
   "metadata": {},
   "outputs": [],
   "source": [
    "# Query All Records in the Nurc Database\n",
    "april_ufo_data = engine.execute(\"SELECT * FROM national_ufo_reporting_ctr\")\n",
    "\n",
    "for record in april_ufo_data:\n",
    "    print(record)"
   ]
  },
  {
   "cell_type": "code",
   "execution_count": 18,
   "metadata": {},
   "outputs": [],
   "source": [
    "# Query All Records in the Nuforc Database \n",
    "nuforc_data = engine.execute(\"SELECT * FROM nuforc_reports\")\n",
    "\n",
    "#for record in nuforc_data:\n",
    "#    print(record)"
   ]
  },
  {
   "cell_type": "code",
   "execution_count": 19,
   "metadata": {},
   "outputs": [],
   "source": [
    "# Query All Records in the Military Bases Database\n",
    "military_bases_data = engine.execute(\"SELECT * FROM military_bases\")\n",
    "\n",
    "# for record in militry_bases_data:\n",
    "#    print(record)"
   ]
  },
  {
   "cell_type": "markdown",
   "metadata": {},
   "source": [
    "## Get Column Names/Types for Each Table"
   ]
  },
  {
   "cell_type": "code",
   "execution_count": 20,
   "metadata": {},
   "outputs": [],
   "source": [
    "# Get a list of column names and types for nurc data\n",
    "columns = inspector.get_columns('national_ufo_reporting_ctr')\n",
    "#for c in columns:\n",
    "#    print(c['name'], c[\"type\"])\n",
    "# columns"
   ]
  },
  {
   "cell_type": "code",
   "execution_count": 21,
   "metadata": {},
   "outputs": [],
   "source": [
    "# Get a list of column names and types for military_bases data\n",
    "columns = inspector.get_columns('military_bases')\n",
    "#for c in columns:\n",
    "#    print(c['name'], c[\"type\"])\n",
    "# columns"
   ]
  },
  {
   "cell_type": "code",
   "execution_count": 22,
   "metadata": {},
   "outputs": [],
   "source": [
    "# Get a list of column names and types for nuforc data\n",
    "columns = inspector.get_columns('nuforc_reports')\n",
    "#for c in columns:\n",
    "#    print(c['name'], c[\"type\"])\n",
    "# columns"
   ]
  },
  {
   "cell_type": "code",
   "execution_count": 23,
   "metadata": {},
   "outputs": [],
   "source": [
    "# Create the tables associated with classes.\n",
    "Base.metadata.create_all(engine)"
   ]
  },
  {
   "cell_type": "code",
   "execution_count": 24,
   "metadata": {},
   "outputs": [],
   "source": [
    "from sqlalchemy.orm import Session\n",
    "session = Session(bind=engine)"
   ]
  },
  {
   "cell_type": "markdown",
   "metadata": {},
   "source": [
    "## Reflect Tables Into SQLAlchemy ORM"
   ]
  },
  {
   "cell_type": "code",
   "execution_count": 25,
   "metadata": {},
   "outputs": [],
   "source": [
    "# Declare a Base\n",
    "Base = automap_base()"
   ]
  },
  {
   "cell_type": "code",
   "execution_count": 26,
   "metadata": {},
   "outputs": [
    {
     "data": {
      "text/plain": [
       "['nuforc_reports', 'military_bases', 'national_ufo_reporting_ctr']"
      ]
     },
     "execution_count": 26,
     "metadata": {},
     "output_type": "execute_result"
    }
   ],
   "source": [
    "# reflect an existing database into a new model\n",
    "Base.prepare(engine, reflect=True)\n",
    "\n",
    "# reflect the tables\n",
    "\n",
    "# We can view all of the classes that automap found\n",
    "Base.classes.keys()"
   ]
  },
  {
   "cell_type": "code",
   "execution_count": 27,
   "metadata": {},
   "outputs": [],
   "source": [
    "# Save references to each table\n",
    "nuforc_reports = Base.classes.nuforc_reports\n",
    "military_bases = Base.classes.military_bases\n",
    "national_ufo_reporting_ctr = Base.classes.national_ufo_reporting_ctr"
   ]
  },
  {
   "cell_type": "code",
   "execution_count": 28,
   "metadata": {},
   "outputs": [],
   "source": [
    "# Create our session (link) from Python to the DB\n",
    "session = Session(engine)"
   ]
  },
  {
   "cell_type": "markdown",
   "metadata": {},
   "source": [
    "## Explore April Sightings"
   ]
  },
  {
   "cell_type": "code",
   "execution_count": null,
   "metadata": {},
   "outputs": [],
   "source": []
  },
  {
   "cell_type": "code",
   "execution_count": null,
   "metadata": {},
   "outputs": [],
   "source": []
  }
 ],
 "metadata": {
  "kernelspec": {
   "display_name": "Python 3",
   "language": "python",
   "name": "python3"
  },
  "language_info": {
   "codemirror_mode": {
    "name": "ipython",
    "version": 3
   },
   "file_extension": ".py",
   "mimetype": "text/x-python",
   "name": "python",
   "nbconvert_exporter": "python",
   "pygments_lexer": "ipython3",
   "version": "3.7.6"
  }
 },
 "nbformat": 4,
 "nbformat_minor": 4
}
